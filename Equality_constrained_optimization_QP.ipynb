{
 "cells": [
  {
   "cell_type": "markdown",
   "metadata": {},
   "source": [
    "### Equality Constrained Optimization\n",
    "\n",
    "Problem Setup:\n",
    "$$ \\min_{x \\in \\mathbb{R}^n} f(x) \\\\ \\text{s.t. }  g(x)=0$$\n",
    "where\n",
    "$f\\colon \\mathbb{R}^n \\rightarrow \\mathbb{R} $ and $g\\colon \\mathbb{R}^n \\rightarrow \\mathbb{R}^m $ \n",
    "\n",
    "We define the Lagrangian as: $\\mathcal{L}(x,\\mathbf{\\lambda}) = f(x) - \\mathbf{\\lambda}' g(x)$.\n",
    "\n",
    "The KKT conditions (First Order Necesary Conditions):\n",
    "$$\\nabla\\mathcal{L}(x,\\mathbf{\\lambda}) = 0 $$\n",
    "$$g(x) = 0$$.\n",
    "\n",
    "For a general nonlinear problem, we can use Newton-optimization methods to solve the above system of equation.\n",
    "This leads to essentially solving the following linear system of equation at every iteration of the Newton-type optimization:\n",
    "\n",
    "$$ $$\n",
    "$$\n",
    " \\begin{bmatrix} \\nabla_x f(x_k) \\\\  g(x_k) \\end{bmatrix} + \\begin{bmatrix} \\nabla^2\\mathcal{L} & \\nabla g \\\\ \\nabla g' & 0 \\end{bmatrix} \\begin{bmatrix} (x_{k+1}-x_k) \\\\ -\\lambda_{k+1} \\end{bmatrix}\n",
    " = 0\n",
    "$$\n",
    "\n",
    "Different approximations to the matrix $\\bf{B} = \\nabla^2\\mathcal{L}$ results in different Newton-type optimization algorithms for the equality constrained optimization.\n",
    "\n",
    "For the special case of QP, $f(x) = \\frac{1}{2} x' \\mathbf{B} x + c'x$, $g(x) = b + \\mathbf{A}x$.\n",
    "then the KKT conditions directly lead to the following solution for the optima:\n",
    "$$\\begin{bmatrix} \\mathbf{B} & \\mathbf{A}' \\\\ \\mathbf{A}& 0 \\end{bmatrix} \\begin{bmatrix} x \\\\ -\\lambda \\end{bmatrix} + \\begin{bmatrix}c \\\\ b\\end{bmatrix}=0$$"
   ]
  },
  {
   "cell_type": "code",
   "execution_count": 332,
   "metadata": {},
   "outputs": [],
   "source": [
    "# QP: Linear equality constraint and quadratic cost\n",
    "import numpy as np\n",
    "def QP(B,c,A,b, method=None):\n",
    "    '''\n",
    "    OBJECTIVE; min (0.5*x'Bx+c'x) s.t. Ax+b=0 \n",
    "    Assuming Second Order Sufficiency Condition holds. i.e., p'Bp >0 for all p in the kernel(A)\n",
    "    \n",
    "    We solve the above linear equation for QP solution in a smart way usin Null-space method\n",
    "    (instead of naive approaches of taking the inversion of KKT matrix). \n",
    "    The naive method puts stronger constraints on (A,B) for QP solution to exist.\n",
    "    '''\n",
    "    if method == \"NullSpace\":\n",
    "        # Solve using null space method\n",
    "        q, r  = np.linalg.qr(A.T,mode='complete')\n",
    "        print(r)\n",
    "        print(q)\n",
    "        Z = q[:,m:]#vh[m:,:].T # basis for kernel(A)\n",
    "        Y = q[:,:m]\n",
    "        Rp = r[:m,:]\n",
    "        x_special = np.linalg.lstsq(A, -1*np.array(b).reshape(-1,))[0]\n",
    "        a_ = Z.T@B@Z \n",
    "        b_ = Z.T@np.array(c).reshape(-1,)+Z.T@B@np.array(x_special).reshape(-1,)\n",
    "        x_g = np.linalg.lstsq(a_, -1*np.array(b_).reshape(-1,))[0]\n",
    "        x = (Z@x_g + x_special).reshape(-1,)\n",
    "        lambda_ = np.linalg.lstsq(Rp, -Y.T@(B@x+c.reshape(-1,)))[0] #lagrangian\n",
    "    \n",
    "    else:\n",
    "        #naive method: faster but requirement on (A,B) is stronger for solution to exist\n",
    "        nA_ = np.zeros([n+m,n+m])\n",
    "        nb_ = np.zeros(n+m)\n",
    "        nA_[:n,:n] = B\n",
    "        nA_[n:,:n] = A\n",
    "        nA_[:n,n:] = A.T\n",
    "        nb_[:n] = -c\n",
    "        nb_[n:] = -b\n",
    "        x_lambda = np.linalg.lstsq(nA_, np.array(nb_).reshape(-1,))[0]\n",
    "        x = x_lambda[:n]\n",
    "        lambda_ = x_lambda[n:] #lagrangian\n",
    "                            \n",
    "    return x,lambda_\n",
    "    "
   ]
  },
  {
   "cell_type": "code",
   "execution_count": null,
   "metadata": {},
   "outputs": [],
   "source": []
  },
  {
   "cell_type": "code",
   "execution_count": 334,
   "metadata": {},
   "outputs": [
    {
     "name": "stdout",
     "output_type": "stream",
     "text": [
      "Minima, x=  [-0.73069497 -0.25064868 -0.5167219   0.0861169   0.29881158  0.54086647\n",
      "  0.91652219]\n",
      "lambda (lagrangian) =  [ 0.05113968 -0.19032848]\n",
      "Minimum value =  0.6423165347503986\n"
     ]
    },
    {
     "name": "stderr",
     "output_type": "stream",
     "text": [
      "<ipython-input-332-b6330cce5964>:37: FutureWarning: `rcond` parameter will change to the default of machine precision times ``max(M, N)`` where M and N are the input matrix dimensions.\n",
      "To use the future default and silence this warning we advise to pass `rcond=None`, to keep using the old, explicitly pass `rcond=-1`.\n",
      "  x_lambda = np.linalg.lstsq(nA_, np.array(nb_).reshape(-1,))[0]\n"
     ]
    }
   ],
   "source": [
    "# Example QP:\n",
    "n = 7\n",
    "m = 2\n",
    "A = np.random.randn(m,n)\n",
    "B = np.random.randn(n,n)\n",
    "c = np.random.randn(n)\n",
    "b = np.random.randn(m)\n",
    "x,lambda_ = QP(B,c,A,b)\n",
    "print(\"Minima, x= \",x)\n",
    "print(\"lambda (lagrangian) = \",lambda_)\n",
    "print(\"Minimum value = \",0.5*x.T@B@x +c.T@x)"
   ]
  },
  {
   "cell_type": "code",
   "execution_count": null,
   "metadata": {},
   "outputs": [],
   "source": []
  },
  {
   "cell_type": "code",
   "execution_count": null,
   "metadata": {},
   "outputs": [],
   "source": []
  },
  {
   "cell_type": "code",
   "execution_count": null,
   "metadata": {},
   "outputs": [],
   "source": []
  },
  {
   "cell_type": "code",
   "execution_count": null,
   "metadata": {},
   "outputs": [],
   "source": []
  }
 ],
 "metadata": {
  "kernelspec": {
   "display_name": "Python 3",
   "language": "python",
   "name": "python3"
  },
  "language_info": {
   "codemirror_mode": {
    "name": "ipython",
    "version": 3
   },
   "file_extension": ".py",
   "mimetype": "text/x-python",
   "name": "python",
   "nbconvert_exporter": "python",
   "pygments_lexer": "ipython3",
   "version": "3.8.5"
  }
 },
 "nbformat": 4,
 "nbformat_minor": 4
}
